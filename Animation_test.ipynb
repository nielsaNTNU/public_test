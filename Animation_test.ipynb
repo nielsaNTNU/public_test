{
 "cells": [
  {
   "cell_type": "code",
   "execution_count": 1,
   "id": "a0932e04",
   "metadata": {},
   "outputs": [],
   "source": [
    "import numpy as np\n",
    "import matplotlib.pyplot as plt\n",
    "from matplotlib.colors import ListedColormap\n",
    "from matplotlib.widgets import Slider, Button\n",
    "%matplotlib inline\n",
    "from ipywidgets import interactive, fixed, Layout, FloatSlider\n",
    "import seaborn as sb"
   ]
  },
  {
   "cell_type": "code",
   "execution_count": 2,
   "id": "91e9357f",
   "metadata": {},
   "outputs": [],
   "source": [
    "def f(x, a):\n",
    "    return a*x\n",
    "\n",
    "x_arr = np.linspace(-10,10,100)\n",
    "\n",
    "def plott(a):\n",
    "    plt.plot(x_arr, f(x_arr,a))\n"
   ]
  },
  {
   "cell_type": "code",
   "execution_count": 5,
   "id": "1c578519",
   "metadata": {},
   "outputs": [
    {
     "data": {
      "application/vnd.jupyter.widget-view+json": {
       "model_id": "aa2eea85386243c88643614d2c3f725b",
       "version_major": 2,
       "version_minor": 0
      },
      "text/plain": [
       "interactive(children=(FloatSlider(value=0.0, description='a', layout=Layout(width='800px'), max=0.5, min=-0.5,…"
      ]
     },
     "metadata": {},
     "output_type": "display_data"
    }
   ],
   "source": [
    "J_max = 0.5\n",
    "interactive(plott, a=FloatSlider(value =0, min=-J_max,max=J_max,step=0.05,\n",
    "                                                        layout=Layout(width='800px')))"
   ]
  }
 ],
 "metadata": {
  "kernelspec": {
   "display_name": "Python 3",
   "language": "python",
   "name": "python3"
  },
  "language_info": {
   "codemirror_mode": {
    "name": "ipython",
    "version": 3
   },
   "file_extension": ".py",
   "mimetype": "text/x-python",
   "name": "python",
   "nbconvert_exporter": "python",
   "pygments_lexer": "ipython3",
   "version": "3.8.8"
  },
  "widgets": {
   "application/vnd.jupyter.widget-state+json": {
    "state": {
     "9f5104a11aa143fcaba0f884c6f95f36": {
      "model_module": "@jupyter-widgets/controls",
      "model_module_version": "1.5.0",
      "model_name": "FloatSliderModel",
      "state": {
       "description": "a",
       "layout": "IPY_MODEL_c1811c80ae9542f5b8562de5b1b7bce3",
       "max": 0.5,
       "min": -0.5,
       "step": 0.05,
       "style": "IPY_MODEL_b90e6b53e6964117b3f7a4123dad4ff4",
       "value": 0.35
      }
     },
     "aa2eea85386243c88643614d2c3f725b": {
      "model_module": "@jupyter-widgets/controls",
      "model_module_version": "1.5.0",
      "model_name": "VBoxModel",
      "state": {
       "_dom_classes": [
        "widget-interact"
       ],
       "children": [
        "IPY_MODEL_9f5104a11aa143fcaba0f884c6f95f36",
        "IPY_MODEL_ce935392cba74d1f8ce51eef926965db"
       ],
       "layout": "IPY_MODEL_c09cfa70386f4589bf33a38b3ee35920"
      }
     },
     "b90e6b53e6964117b3f7a4123dad4ff4": {
      "model_module": "@jupyter-widgets/controls",
      "model_module_version": "1.5.0",
      "model_name": "SliderStyleModel",
      "state": {
       "description_width": ""
      }
     },
     "c09cfa70386f4589bf33a38b3ee35920": {
      "model_module": "@jupyter-widgets/base",
      "model_module_version": "1.2.0",
      "model_name": "LayoutModel",
      "state": {}
     },
     "c1811c80ae9542f5b8562de5b1b7bce3": {
      "model_module": "@jupyter-widgets/base",
      "model_module_version": "1.2.0",
      "model_name": "LayoutModel",
      "state": {
       "width": "800px"
      }
     },
     "ce935392cba74d1f8ce51eef926965db": {
      "model_module": "@jupyter-widgets/output",
      "model_module_version": "1.0.0",
      "model_name": "OutputModel",
      "state": {
       "layout": "IPY_MODEL_f902008cbcde44c0a983d6590fd73ed5",
       "outputs": [
        {
         "data": {
          "image/png": "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\n",
          "text/plain": "<Figure size 432x288 with 1 Axes>"
         },
         "metadata": {
          "needs_background": "light"
         },
         "output_type": "display_data"
        }
       ]
      }
     },
     "f902008cbcde44c0a983d6590fd73ed5": {
      "model_module": "@jupyter-widgets/base",
      "model_module_version": "1.2.0",
      "model_name": "LayoutModel",
      "state": {}
     }
    },
    "version_major": 2,
    "version_minor": 0
   }
  }
 },
 "nbformat": 4,
 "nbformat_minor": 5
}
