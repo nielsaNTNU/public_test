{
 "cells": [
  {
   "cell_type": "markdown",
   "metadata": {},
   "source": [
    "<style>\n",
    "@import url(https://www.numfys.net/static/css/nbstyle.css);\n",
    "</style>\n",
    "<a href=\"https://www.numfys.net\"><img class=\"logo\" /></a>\n",
    "\n",
    "# Numerical calculation of the Clebsch-Gordan Coefficients\n",
    "\n",
    "## Examples – Quantum Mechanics\n",
    "<section class=\"post-meta\">\n",
    "By Andre Flakke (External)\n",
    "</section>\n",
    "Last edited: January 2nd 2021\n",
    "\n",
    "\n",
    "___\n",
    "This notebook is actually not written by us from the NumFys-team, instead it is written by Andre Flakke, and after some guidance from us, we are happy to publish Andre's work! He will demonstrate how to calculate the Clebsch-Gordan coefficients, coefficients arising when dealing with addition of quantum mechanical angular momentum. If you have any questions to Andre, he can be reached at aflakke@outlook.com.\n",
    "___"
   ]
  },
  {
   "cell_type": "markdown",
   "metadata": {},
   "source": [
    "## Motivation for Computing the Clebsch-Gordan Coefficients\n",
    "The motivation for computing Clebsch-Gordan coefficients is mainly that they answer the question: *If I pair two angular momentum states, how does the new angular momentum state relate to the original, individual states?* The emergent two-particle state can be written as a linear combination (superposition) of states, and we are interested in the coefficients of this linear combination. These coefficients are known as the Clebsch-Gordan (CG) coefficients.\n",
    "\n",
    "For concreteness, the term angular momentum states can be thought of as states describing particles with angular momentum. The angular momentum can be either orbital momentum, or the intrinsic orbital momentum (spin), carried by most elementary particles.\n",
    "\n",
    "The CG coefficients are computable by hand, normally through the use of ladder operators, but the computation quickly becomes time consuming as the total angular momentum increases. Thus, it is more common to look them up in a table or calculate them numerically. In this notebook, we will demonstrate how to do the latter. \n",
    "\n",
    "Online tables of CG coefficients are for example the Wikipedia.org web page [[1]](#rsc) or Particle Data Group's [[2]](#rsc). We will use these tables to verify our results."
   ]
  },
  {
   "cell_type": "markdown",
   "metadata": {},
   "source": [
    "## Addition of angular momenta and the CG Coefficients\n",
    "\n",
    "We will not cover the details of addition of angular momentum in this notebook. We recommend [[3]](#rsc) (English) or [[4]](#rsc) (Norwegian) for a gentle introduction on the subject. However, we will cover the most basic properties needed to understand the CG coefficients. The total angular momentum vector of a particle, $\\textbf{J}$, can be written as the vector sum $\\textbf{J} = \\textbf{L} + \\textbf{S}$, where $\\textbf{L}$ denotes the orbital angular momentum  and $\\textbf{S}$ denotes the intrinsic angular momentum. One can furthermore add the total angular momentum vectors of two particles $\\textbf{J}_{1} + \\textbf{J}_{2} = \\textbf{J}$. This restricts the possible values for the total angular momentum for the new state. In particular, this enforces the quantum number $j$ (corresponding to $\\textbf{J}$), to take the values $|j_{1} - j_{2}| \\leq j \\leq j_{1} + j_{2}$, with unit integer increments.\n",
    "\n",
    "Before we define the CG coefficients, we need to make a short detour and introduce the total angular momentum projection quantum number $m$. It is instructive to first consider a single particle with orbital momentum $l_1$, spin $s_1$, and thus $j_1 \\in \\{|l_1 - s_1|, |l_1 - s_1| + 1, ..., l_1 + s_1\\}$. The possible values for the magnetic quantum number $m_1$ is then given by $m_1 \\in \\{ -j_1, -j_1 + 1, ..., j_1 - 1, j_1 \\}$. Physically, one measures $m_1$ by projecting the angular momentum on a certain axis, conventionally along the $z$-axis. These relations also hold for the two-particle example described above, such that for each possible $j$, we have a corresponding set of $m$-s given by $m\\in \\{ -j, -j + 1, ..., j - 1, j \\}$. $m$ must also fulfill  $m = m_{1} + m_{2}$. Note that quantum numbers with subscripts refer to a specific particle, whereas the quantum numbers without subscripts denote the new two-particle state. \n",
    "\n",
    "We are now ready to write the expression for the CG-coefficients. In bra-ket notation the equation relating the two-particle state $|j m \\rangle$ in terms of the initial angular momentum states, $| j_{1} m_{1} \\rangle | j_{2} m_{2} \\rangle$, is given by \n",
    "\n",
    "\\begin{equation}\n",
    "| j m \\rangle = \\sum_{m_{1},m_{2}}\\langle j_{1} m_1 j_{2}m_{2} | j m \\rangle  | j_{1} m_{1} \\rangle | j_{2} m_{2} \\rangle,\n",
    "\\label{CG_def}\n",
    "\\end{equation}\n",
    "\n",
    "where the CG-coefficients are defined as the real valued coefficient $\\langle j_{1}m_{1}j_{2}m_{2} | j m \\rangle$. From equation \\eqref{CG_def}, the physical interpretation of the CG coefficients reemerges; They describe how much of each old state is contained in the new states. It is thus immediately clear that the square of the CG coefficients represent probability amplitudes. "
   ]
  },
  {
   "cell_type": "markdown",
   "metadata": {},
   "source": [
    "### Example: Addition of Angular Momentum of Two Electrons\n",
    "Before we start with the numerical implementation, let's consider a simple example in order to familiarize us with the matrix notation that we will use later. Additionally, this will allow us to visualize how the bra-ket notation relates to the matrix notation. \n",
    "\n",
    "Consider adding the angular momentum of two electrons with $l_{1} = l_{2} = 0$ and $s_{1} = s_{2} = 1/2$. Physically, these are electrons described by $s$-orbitals. We then have $j_{1} = j_{2} = 1/2$, and hence $m_{1},m_{2} \\in \\{-1/2, 1/2\\}$. Thus, the total angular momentum for the new two-particle state, $j$, fulfills $0 \\leq j \\leq 1$. And since $j$ increases in integer steps, $j \\in \\{0,1\\}$.\n",
    "\n",
    "In the following, we again refer to [[3]](#rsc) and [[4]](#rsc) for a detailed derivation for the the two-particles states, here we will focus on the results. Using kets to denote quantum numbers, we have a singlet normalized product state with $j = 0$ by the combination\n",
    "\n",
    "\\begin{equation} | j=0, m=0 \\rangle = {1 \\over \\sqrt{2}} \\big ( | j_1=1/2, m_1=1/2 \\rangle | j_2=1/2, m_2=-1/2 \\rangle - | j_1=1/2, m_1=-1/2 \\rangle | j_2=1/2, m_2=1/2 \\rangle \\big ),\n",
    "\\end{equation}\n",
    "\n",
    "or more compactly written as\n",
    "\n",
    "\\begin{equation} | 0, 0 \\rangle = {1 \\over \\sqrt{2}} \\big ( | 1/2, 1/2 \\rangle | 1/2, -1/2 \\rangle - | 1/2, -1/2 \\rangle | 1/2, 1/2 \\rangle \\big ),\n",
    "\\label{singlet}\n",
    "\\end{equation}\n",
    "\n",
    "and a triplet states with $j = 1$\n",
    "\n",
    "\\begin{equation} \\begin{pmatrix} | 1, -1 \\rangle \\\\ | 1, 0 \\rangle \\\\ | 1, 1 \\rangle \\end{pmatrix} = \\begin{pmatrix}  | 1/2, -1/2 \\rangle | 1/2, -1/2 \\rangle \\\\ {1 \\over \\sqrt{2}} \\big ( | 1/2, 1/2 \\rangle | 1/2, -1/2 \\rangle + | 1/2, -1/2 \\rangle | 1/2, 1/2 \\rangle \\big ) \\\\  | 1/2, 1/2 \\rangle | 1/2, 1/2 \\rangle \\end{pmatrix},\n",
    "\\label{triplet}\n",
    "\\end{equation}\n",
    "\n",
    "where we omitted to write all the labels for the quantum numbers in the interest of brevity.\n",
    "\n",
    "By comparing equations \\eqref{singlet} and \\eqref{triplet} to the original expression for the CG coefficients in equation \\eqref{CG_def} we see that the coefficients in front of each product of single particle states are indeed the CG coefficients. In matrix form, we can write this as\n",
    "\n",
    "\\begin{equation} \\begin{pmatrix} | 0, 0 \\rangle \\\\ | 1, -1 \\rangle \\\\ | 1, 0 \\rangle \\\\ | 1, 1 \\rangle \\end{pmatrix} = \\begin{pmatrix} 0 & {1 \\over \\sqrt{2}} & -{1 \\over \\sqrt{2}} & 0 \\\\ 1 & 0 & 0 & 0 \\\\ 0 & {1 \\over \\sqrt{2}} & {1 \\over \\sqrt{2}} & 0 \\\\ 0 & 0 & 0 & 1 \\end{pmatrix} \\begin{pmatrix} | 1/2, -1/2 \\rangle | 1/2, -1/2 \\rangle \\\\ | 1/2, 1/2 \\rangle | 1/2, -1/2 \\rangle \\\\ | 1/2, -1/2 \\rangle | 1/2, 1/2 \\rangle \\\\ | 1/2, 1/2 \\rangle | 1/2, 1/2 \\rangle \\end{pmatrix},\n",
    "\\label{CG_matrix}\n",
    "\\end{equation}\n",
    "\n",
    "where the CG-coefficients are contained in the matrix. In this notebook, we will numerically compute this matrix for general $j_1$ and $j_2$."
   ]
  },
  {
   "cell_type": "markdown",
   "metadata": {},
   "source": [
    "### Computing the CG Coefficients\n",
    "\n",
    "As mentioned in the first section, computing the CG-coefficients numerically might seem strange at first, but as the complexity of the calculations grow, a numerical routine will be a useful aid up to the *representation error* ([[5]](#rsc), 15.1) of the programming language.  \n",
    "\n",
    "There is a wide variety of ways to compute and represent the CG coefficients in exact arithmetic (i.e without rounding error), see e.g. [[6]](#rsc). We will use the expression \n",
    "\\begin{equation}\n",
    "\\langle j_{1}m_{1}j_{2}m_{2}|jm \\rangle = { \\delta_{m,m_{1} + m_{2}} \\over \\Delta(j_{1},j_{2},j) } \\sqrt{ (2j + 1) } \\sqrt{ { (j_{1} + m_{1})!(j_{1} - m_{1})!(j + m)!(j - m)! \\over (j_{2} + m_{2})!(j_{2} - m_{2})! } } \\times \\sum_{z = 0}^{\\min(j - m, j_{1} - m_{1})}\\mathcal{X}(z),\n",
    "\\label{CG_num}\n",
    "\\end{equation}\n",
    "\n",
    "where \n",
    "\n",
    "$$ \\mathcal{X}(z) = { (-1)^{j_{1} - m_{1} - z} \\over z!} { (j_{1} + j_{2} - m - z)!(j_{2} + j - m_{1} - z)! \\over (j_{1} - m_{1} - z)!(j  - m - z)!(j_{1} + j_{2} + j + 1 - z)! }, $$\n",
    "\n",
    "and \n",
    "$$\\Delta(j_{1},j_{2},j) = \\sqrt{ { (j_{1} + j_{2} - j)!(j_{1} - j_{2} + j)!(-j_{1} + j_{2} + j)! \\over (j_{1} + j_{2} + j + 1)! } }.$$  \n",
    "\n",
    "For convenience, in our numerical routines we will label the prefactor in equation \\eqref{CG_num} as\n",
    "\n",
    "$$c := { 1 \\over \\Delta(j_{1},j_{2},j) } \\sqrt{ (2j + 1) } \\sqrt{ { (j_{1} + m_{1})!(j_{1} - m_{1})!(j + m)!(j - m)! \\over (j_{2} + m_{2})!(j_{2} - m_{2})! } }.$$\n",
    " "
   ]
  },
  {
   "cell_type": "markdown",
   "metadata": {},
   "source": [
    "## Numerical implementation\n",
    "The Python code contains four functions. Three of them are auxiliary functions which are called from the main function. Before we start going through the numerical routine, it is useful to remind ourselves that *the angular momenta are either integer or an integer divided by two (half-integer)*. The routine is also *only* defined for  half-integer or integer. There is however, nothing wrong with having a combination of half-integer and integer quantum numbers as input to the program code.   \n",
    "\n",
    "The first code block imports libraries and mathematical functions: "
   ]
  },
  {
   "cell_type": "code",
   "execution_count": 1,
   "metadata": {},
   "outputs": [],
   "source": [
    "import numpy as np\n",
    "import pandas\n",
    "from math import factorial as fac\n",
    "from math import sqrt "
   ]
  },
  {
   "cell_type": "markdown",
   "metadata": {},
   "source": [
    "The use of `pandas` is solely cosmetic, and no familiarity with the library is required to understand the code. Now we can look at the first auxiliary function."
   ]
  },
  {
   "cell_type": "code",
   "execution_count": 2,
   "metadata": {},
   "outputs": [],
   "source": [
    "def get_levels(j_i): \n",
    "    \n",
    "    m_i = np.arange(-j_i,j_i + 1,1)  #quantum numers ms between -j_i and j_i in unit integer steps \n",
    "    n_i = len(m_i)\n",
    "    \n",
    "    J_i = np.zeros((n_i,2))         #allocate a zero-filled array\n",
    "    \n",
    "    for i in range(0,n_i):         #fill the array in a loop\n",
    "        J_i[i][0] = j_i\n",
    "        J_i[i][1] = m_i[i]\n",
    "    \n",
    "    return J_i,n_i;"
   ]
  },
  {
   "cell_type": "markdown",
   "metadata": {},
   "source": [
    "This function computes and returns the $n_i \\times 2$ table $\\textbf{J}_i$, containing the different $m_i$-values one can have for the input $j_i$. The index $i$ referes to one of the inputs $j_1$ or $j_2$. $n_i$ is given by $n_i := (2j_i + 1)$. In $\\textbf{J}_i$, the first column is simply $j_i$, and the second column of the array contains integer values $-m_i \\leq j_i \\leq m_i$ in **unit** integer increments (i.e. 1).\n",
    "\n",
    "Let's illustrate with the example $j = 3/2$"
   ]
  },
  {
   "cell_type": "code",
   "execution_count": 3,
   "metadata": {},
   "outputs": [
    {
     "name": "stdout",
     "output_type": "stream",
     "text": [
      "(array([[ 1.5, -1.5],\n",
      "       [ 1.5, -0.5],\n",
      "       [ 1.5,  0.5],\n",
      "       [ 1.5,  1.5]]), 4)\n"
     ]
    }
   ],
   "source": [
    "print(get_levels(3/2))"
   ]
  },
  {
   "cell_type": "markdown",
   "metadata": {},
   "source": [
    "In the second auxiliary function, we use pandas to increase the readability of the output"
   ]
  },
  {
   "cell_type": "code",
   "execution_count": 4,
   "metadata": {},
   "outputs": [],
   "source": [
    "def make_product_state_labels(J_1,J_2,n_1,n_2):\n",
    "        \n",
    "    r_1 = np.kron(np.ones((n_2,1)),J_1)  #kronecker tensor product\n",
    "    r_2 = np.kron(J_2,np.ones((n_1,1)))  #kronecker tensor product\n",
    "    \n",
    "    J_12 = np.concatenate((r_1,r_2),axis = 1) #stacks column vectors r_1, r_2 along the column dimension \n",
    "    \n",
    "    state_list = ['| j_1,','m_1 >','| j_2,','m_2 >']    #labels for the individual quantum numberinputs \n",
    "    J_12 = pandas.DataFrame(J_12,None, state_list)    #make a table for readability\n",
    "    \n",
    "    return J_12;    "
   ]
  },
  {
   "cell_type": "markdown",
   "metadata": {},
   "source": [
    "As the name suggests, this function makes labels for the product state described by the two initial sets of quantum numbers. Hence it is a matrix containing labels for the possible products of $ |j_{1},m_{1} \\rangle |j_{2},m_{2} \\rangle $ for all possible values of $m_1$ and $m_2$. $j_{1}, j_{2}$ are fixed input parameters to the function.\n",
    "\n",
    "The inputs $n_{1}, n_{2}$ to this function are used to construct the $(n_{1}n_{2}) \\times 2$ matrices $\\textbf{r}_{1} := \\textbf{1}_{2} \\otimes \\textbf{J}_{1}$ and $\\textbf{r}_{2} := \\textbf{J}_{2} \\otimes \\textbf{1}_{1}$ in terms of the Kronecker tensor product $\\otimes$ (which you can read up on here [[7]](#rsc)).The vectors $\\textbf{1}_{1}$ and $\\textbf{1}_{2}$ consists of ones, with length $n_{1}$ and $n_{2}$, respectively. This ensures that the columns of the matrix $\\textbf{J}_{12} = (\\textbf{r}_{1}, \\textbf{r}_{2})$ have equal length. The matrix $\\textbf{J}_{12}$ will have column-dimension equal to $4$, where the two first columns label the states $ |j_{1},m_{1} \\rangle $ and the two last columns label the states $|j_{2},m_{2} \\rangle$. The matrix is turned into a table (or technically a dataframe) before it is returned from the function.  \n",
    "\n",
    "*Hence the output from this function is only used to label states and hence keep track of Clebsch-Gordan coefficients that are not zero*. Let's see how it works with the two-electron example $j_{1} = j_{2} = 1/2$  "
   ]
  },
  {
   "cell_type": "code",
   "execution_count": 5,
   "metadata": {},
   "outputs": [
    {
     "name": "stdout",
     "output_type": "stream",
     "text": [
      "   | j_1,  m_1 >  | j_2,  m_2 >\n",
      "0     0.5   -0.5     0.5   -0.5\n",
      "1     0.5    0.5     0.5   -0.5\n",
      "2     0.5   -0.5     0.5    0.5\n",
      "3     0.5    0.5     0.5    0.5\n"
     ]
    }
   ],
   "source": [
    "J_1,n_1 = get_levels(1/2)\n",
    "J_2,n_2 = get_levels(1/2)\n",
    "print(make_product_state_labels(J_1,J_2,n_1,n_2))"
   ]
  },
  {
   "cell_type": "markdown",
   "metadata": {},
   "source": [
    "Thus, we reproduce the rightmost vector in equation \\eqref{CG_matrix}, as desired.\n",
    "\n",
    "The next auxiliary function we will look at is the one that computes a particular CG-coefficient using equation \\eqref{CG_num}."
   ]
  },
  {
   "cell_type": "code",
   "execution_count": 6,
   "metadata": {},
   "outputs": [],
   "source": [
    "def cg_coef(j_1,j_2,j,m_1,m_2):\n",
    "    # This function computes a particular matrix entry, \n",
    "    # corresponding to a single Clebsch-Gordan coefficient\n",
    "    \n",
    "    m = m_1 + m_2 # delta function constraint \n",
    "    \n",
    "    Delta = sqrt( fac(j_1 + j_2 - j)*fac(j_1 - j_2 + j)*fac(-j_1 + j_2 + j)/fac(j_1 + j_2 + j + 1)  )\n",
    "    \n",
    "    #c becomes a numerical prefactor in the formula  \n",
    "    c = sqrt( fac(j_1 + m_1)*fac(j_1 - m_1)*fac(j + m)*fac(j - m) / (fac(j_2 + m_2)\n",
    "                                                                     *fac(j_2 - m_2)) ) * sqrt(2*j + 1) / Delta\n",
    "    \n",
    "    def chi(z):\n",
    "        numerator = fac(j_1 + j_2 - m - z)*fac(j_2 + j - m_1 - z)\n",
    "        denominator = (fac(j_1 - m_1 - z)*fac(j - m - z)*fac(j_1 + j_2 + j + 1 - z))\n",
    "        return numerator/denominator\n",
    "    \n",
    "    temp = 0\n",
    "    zmax = min(j - m,j_1 - m_1)\n",
    "    \n",
    "    #sum over values consistent with 'zmax'\n",
    "    \n",
    "    for z in range(0,int(zmax + 1)):\n",
    "        temp += (-1)**(j_1 - m_1 + z)*chi(z)/fac(z)\n",
    "    \n",
    "    return c*temp"
   ]
  },
  {
   "cell_type": "markdown",
   "metadata": {},
   "source": [
    "Once this function has been called, the return value will be the particular instance of $\\langle j_{1}m_{1}j_{2}m_{2}|jm \\rangle$. \n",
    "\n",
    "Now it is time to look at the main function which computes a matrix of CG-coefficients, i.e. the matrix on the right hand side in equation \\eqref{CG_matrix}. We denote this matrix as $\\textbf{C}$. The input parameters to this function are the quantum numbers $j_{1}, j_{2}$. For two electrons, these quantum numbers would be $j_{1} = 1/2, j_{2} = 1/2$."
   ]
  },
  {
   "cell_type": "code",
   "execution_count": 7,
   "metadata": {},
   "outputs": [],
   "source": [
    "def clebsch_gordan(j_1,j_2):\n",
    "    # This is the main function computing the matrix of Clebsch-Gordan coefficients\n",
    "    \n",
    "    jmin = abs(j_1 - j_2)    # min. imum allowed total angular momentum\n",
    "    jmax = j_1 + j_2         # maximum allowed total angular momentum\n",
    "    \n",
    "    increment = np.arange(jmin, jmax + 1,1)       #increment in integer steps\n",
    "    \n",
    "    # loop over allowed quantum numbers\n",
    "    for k in range(0,len(increment)):\n",
    "        \n",
    "        if(k == 0):\n",
    "            J,n = get_levels(increment[k])\n",
    "            N_list = [n]\n",
    "        else:\n",
    "            jtemp,n = get_levels(increment[k])\n",
    "            N_list.append(n)\n",
    "            J = np.concatenate((J,jtemp))\n",
    "        \n",
    "    J_1,n_1 = get_levels(j_1)        \n",
    "    J_2,n_2 = get_levels(j_2)\n",
    "\n",
    "    N = sum(N_list)\n",
    "    C = np.zeros((N,n_1*n_2))  # initialize matrix to hold the CG-coefficients to zero\n",
    "    \n",
    "    # loop over all possible quantum numbers \n",
    "    for m in range(0,N):\n",
    "        for m_1 in range(0,n_1):\n",
    "            for m_2 in range(0,n_2):\n",
    "                if(J_1[m_1][1] + J_2[m_2][1] == J[m][1]):\n",
    "                    C[m][m_1 + n_1*m_2] = ( \n",
    "                    cg_coef(J_1[m_1][0],J_2[m_2][0],J[m][0],J_1[m_1][1],J_2[m_2][1]))\n",
    "    \n",
    "    # the matrix C now contains the CG-coefficients, also the ones that are zero \n",
    "    \n",
    "    final_states = ['| j,',' m >'] #labels the final states inside the main function\n",
    "    J = pandas.DataFrame(J,None, final_states)\n",
    "    \n",
    "    J_12 = make_product_state_labels(J_1,J_2,n_1,n_2) \n",
    "    return J, J_12, C;"
   ]
  },
  {
   "cell_type": "markdown",
   "metadata": {},
   "source": [
    "Note that the function returns all three quantities involved in equation \\eqref{CG_matrix}. Firstly the vector on the left hand side is denoted $\\textbf{J}$, and contains the labels for the states $| j m_{i} \\rangle$ such that each row of $\\textbf{J}$ is a vector with entries $[j, m_{i}]$. Additionally the right hand side quantities in equation \\eqref{CG_matrix} are returned.\n",
    "\n",
    "It should be mentioned at this point that only the returned matrix $\\textbf{C}$ contains numerical values. The other return values are only used as labels to find a particular CG-coefficient.\n",
    "\n",
    "Let's compare the numerical results for the two-electron case with the triplet and singlet found previously."
   ]
  },
  {
   "cell_type": "code",
   "execution_count": 8,
   "metadata": {},
   "outputs": [
    {
     "name": "stdout",
     "output_type": "stream",
     "text": [
      "   | j,   m >\n",
      "0   0.0  -0.0\n",
      "1   1.0  -1.0\n",
      "2   1.0   0.0\n",
      "3   1.0   1.0 \n",
      "\n",
      "[[ 0.     0.707 -0.707  0.   ]\n",
      " [ 1.     0.     0.     0.   ]\n",
      " [ 0.     0.707  0.707  0.   ]\n",
      " [ 0.     0.     0.     1.   ]] \n",
      "\n",
      "   | j_1,  m_1 >  | j_2,  m_2 >\n",
      "0     0.5   -0.5     0.5   -0.5\n",
      "1     0.5    0.5     0.5   -0.5\n",
      "2     0.5   -0.5     0.5    0.5\n",
      "3     0.5    0.5     0.5    0.5 \n",
      "\n"
     ]
    }
   ],
   "source": [
    "np.set_printoptions(precision=3) #truncate the display of decimals to three digits\n",
    "\n",
    "J,J_12,C = clebsch_gordan(1/2,1/2) # two-electron model\n",
    "print(J, \"\\n\") # J is a vector of possible angular momentum states resulting from combining J_{1},J_{2} \n",
    "print(C, \"\\n\") # C is the matrix of Clebsch-Gordan coefficients \n",
    "print(J_12, \"\\n\") # J_12 is the product states that combine with coefficients taken from matrix C "
   ]
  },
  {
   "cell_type": "markdown",
   "metadata": {},
   "source": [
    "The result is identical to equation \\eqref{CG_matrix}, indicating that the implementation is correct. In order to further confirm the validity of the implementation, we can try different values for $j_1$ and $j_2$.\n",
    "\n",
    "For example using $j_{1} = 3/2, j_{2} = 1/2$ yields the output "
   ]
  },
  {
   "cell_type": "code",
   "execution_count": 9,
   "metadata": {},
   "outputs": [
    {
     "name": "stdout",
     "output_type": "stream",
     "text": [
      "   | j,   m >\n",
      "0   1.0  -1.0\n",
      "1   1.0   0.0\n",
      "2   1.0   1.0\n",
      "3   2.0  -2.0\n",
      "4   2.0  -1.0\n",
      "5   2.0   0.0\n",
      "6   2.0   1.0\n",
      "7   2.0   2.0 \n",
      "\n",
      "[[ 0.     0.5    0.     0.    -0.866  0.     0.     0.   ]\n",
      " [ 0.     0.     0.707  0.     0.    -0.707  0.     0.   ]\n",
      " [ 0.     0.     0.     0.866  0.     0.    -0.5    0.   ]\n",
      " [ 1.     0.     0.     0.     0.     0.     0.     0.   ]\n",
      " [ 0.     0.866  0.     0.     0.5    0.     0.     0.   ]\n",
      " [ 0.     0.     0.707  0.     0.     0.707  0.     0.   ]\n",
      " [ 0.     0.     0.     0.5    0.     0.     0.866  0.   ]\n",
      " [ 0.     0.     0.     0.     0.     0.     0.     1.   ]] \n",
      "\n",
      "   | j_1,  m_1 >  | j_2,  m_2 >\n",
      "0     1.5   -1.5     0.5   -0.5\n",
      "1     1.5   -0.5     0.5   -0.5\n",
      "2     1.5    0.5     0.5   -0.5\n",
      "3     1.5    1.5     0.5   -0.5\n",
      "4     1.5   -1.5     0.5    0.5\n",
      "5     1.5   -0.5     0.5    0.5\n",
      "6     1.5    0.5     0.5    0.5\n",
      "7     1.5    1.5     0.5    0.5 \n",
      "\n"
     ]
    }
   ],
   "source": [
    "J,J_12,C = clebsch_gordan(3/2,1/2)\n",
    "\n",
    "print(J, \"\\n\") \n",
    "print(C, \"\\n\") \n",
    "print(J_12, \"\\n\") "
   ]
  },
  {
   "cell_type": "markdown",
   "metadata": {},
   "source": [
    "By cross-checking with [[1]](#rsc), we confirm that the function calculates the correct CG coefficients. We invite the reader to try other examples."
   ]
  },
  {
   "cell_type": "markdown",
   "metadata": {},
   "source": [
    "## Conclusion\n",
    "\n",
    "We have made a program which allows us to calculate the CG coefficients for any pair of $j_1$ and $j_2$. With the functionality presented here, a generalization to systems of more than two particles is straightforward (see that you understand why!). For larger quantum numbers, an automated routine will save us a great deal of time when calculating the CG coefficients.\n",
    "\n",
    "It is also worth noting the physical significance of these states. For fermions, we know that the total wave function for a system of fermions should be anti-symmetric with respect to interchanging coordinates (both spin and spatial) of two identical particles. Thus, if the spin part of the wave function is described by the singlet in equation \\eqref{singlet}, it is clear that an interchange in the spin coordinates would pick up a minus sign, and hence the spatial part of wave function must be symmetric with respect to interchange. The reverse is true for triplets, requiring triplets to have an anti-symmetric spatial wave function. This kind of symmetry often has profound consequences in physics, with examples from e.g. particle physics or condensed matter physics. In other words, what we have studied in this notebook has important, real-world implications!"
   ]
  },
  {
   "cell_type": "markdown",
   "metadata": {},
   "source": [
    "<a id=\"rsc\"></a>\n",
    "## References\n",
    "\n",
    "<a>[1]</a>: https://en.wikipedia.org/wiki/Table_of_Clebsch%E2%80%93Gordan_coefficients (Wikipedia; Online: Accessed 26/11/2020) <br>\n",
    "<a>[2]</a>: https://pdg.lbl.gov/index.html (Particle Data Group)\n",
    "<a>[3]</a>: Bransden, B. H., & Joachain, C. J. (2000). Quantum mechanics (2nd ed., pp. XIV, 803). Pearson/Prentice Hall. <br>\n",
    "<a>[4]</a>: Hemmer, P. (2005). Kvantemekanikk (5. utg. ed.). Trondheim: Tapir akademisk forl. <br>\n",
    "<a>[5]</a>: https://docs.python.org/3/tutorial/floatingpoint.html (Online: Accessed 18/11/2020) <br>\n",
    "<a>[6]</a>: https://functions.wolfram.com/HypergeometricFunctions/ClebschGordan/06/01/ <br>\n",
    "<a>[7]</a>: https://en.wikipedia.org/wiki/Kronecker_product (Wikipedia; Online: Accessed 19/11/2020) <br>"
   ]
  }
 ],
 "metadata": {
  "kernelspec": {
   "display_name": "Python 3",
   "language": "python",
   "name": "python3"
  },
  "language_info": {
   "codemirror_mode": {
    "name": "ipython",
    "version": 3
   },
   "file_extension": ".py",
   "mimetype": "text/x-python",
   "name": "python",
   "nbconvert_exporter": "python",
   "pygments_lexer": "ipython3",
   "version": "3.8.5"
  }
 },
 "nbformat": 4,
 "nbformat_minor": 4
}
